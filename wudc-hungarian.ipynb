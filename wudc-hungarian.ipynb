{
 "cells": [
  {
   "cell_type": "code",
   "execution_count": 1,
   "metadata": {
    "collapsed": true
   },
   "outputs": [],
   "source": [
    "import argparse\n",
    "import munkres\n",
    "import random\n",
    "import wudc\n",
    "from collections import Counter\n",
    "from itertools import chain, repeat\n",
    "from badness import get_position_badness\n",
    "\n",
    "munkres.DISALLOWED_PRINTVAL = \"-\"\n",
    "DISALLOWED = munkres.DISALLOWED\n",
    "m = munkres.Munkres()"
   ]
  },
  {
   "cell_type": "code",
   "execution_count": 2,
   "metadata": {},
   "outputs": [
    {
     "name": "stdout",
     "output_type": "stream",
     "text": [
      "Our draw:\n",
      "   UCD Law A  9 1,1,1,1     grmy krbyn 11 1,0,1,2            tbc  9 1,1,1,1    Cambridge E  8 1,2,1,0\n",
      "Ah, I see yo  8 0,1,1,2         GUU ML  8 1,1,1,1   Cracking ope  7 1,1,1,1   *Say in a Ki  8 1,1,1,1\n",
      "I came here   7 1,1,1,1   Continuity I  6 1,1,1,1   Synergistic   6 1,1,1,1   \"Briefly...\"  7 1,1,1,1\n",
      "Oxford Wonun  6 1,1,1,1     TCD Phil C  6 1,1,1,1      Ocsferday  6 1,1,1,1   Daddy and hi  6 1,1,1,1\n",
      "Theresa May   5 0,2,1,1   I'm Ashaned   4 1,1,1,1   Nicest legs   4 1,1,1,1   Nothing like  4 1,1,1,1\n",
      "Comey hold m  3 1,1,1,1   Eat Sleep De  3 2,0,1,1   Our Auditor   3 1,1,1,1   Alpha Badger  0 2,1,1,0\n",
      "\n",
      "Original draw:\n",
      "   UCD Law A  9 1,1,1,1     grmy krbyn 11 1,0,1,2            tbc  9 1,1,1,1    Cambridge E  8 1,2,1,0\n",
      "      GUU ML  8 1,1,1,1   Ah, I see yo  8 0,1,1,2   *Say in a Ki  8 1,1,1,1   Cracking ope  7 1,1,1,1\n",
      "\"Briefly...\"  7 1,1,1,1   I came here   7 1,1,1,1      Ocsferday  6 1,1,1,1   Oxford Wonun  6 1,1,1,1\n",
      "  TCD Phil C  6 1,1,1,1   Synergistic   6 1,1,1,1   Continuity I  6 1,1,1,1   Daddy and hi  6 1,1,1,1\n",
      "Comey hold m  3 1,1,1,1   Eat Sleep De  3 2,0,1,1   Our Auditor   3 1,1,1,1   Alpha Badger  0 2,1,1,0\n",
      "Nicest legs   4 1,1,1,1   Nothing like  4 1,1,1,1   I'm Ashaned   4 1,1,1,1   Theresa May   5 0,2,1,1\n",
      "\n",
      "           team      ours      original\n",
      "      UCD Law A:  0 2,1,1,1   0 2,1,1,1\n",
      "     grmy krbyn:  0 1,1,1,2   0 1,1,1,2\n",
      "            tbc:  0 1,1,2,1   0 1,1,2,1\n",
      "    Cambridge E:  0 1,2,1,1   0 1,2,1,1\n",
      "Ah, I see you'v:  0 1,1,1,2   4 0,2,1,2\n",
      "         GUU ML:  0 1,2,1,1   0 2,1,1,1\n",
      "Cracking open a:  0 1,1,2,1   0 1,1,1,2\n",
      "*Say in a Kiwi :  0 1,1,1,2   0 1,1,2,1\n",
      "I came here to :  0 2,1,1,1   0 1,2,1,1\n",
      "Continuity Iris:  0 1,2,1,1   0 1,1,2,1\n",
      "Synergistic Man:  0 1,1,2,1   0 1,2,1,1\n",
      "   \"Briefly...\":  0 1,1,1,2   0 2,1,1,1\n",
      "Oxford Wonunain:  0 2,1,1,1   0 1,1,1,2\n",
      "     TCD Phil C:  0 1,2,1,1   0 2,1,1,1\n",
      "      Ocsferday:  0 1,1,2,1   0 1,1,2,1\n",
      "Daddy and his f:  0 1,1,1,2   0 1,1,1,2\n",
      "Theresa May pre:  0 1,2,1,1   4 0,2,1,2\n",
      "I'm Ashaned to :  0 1,2,1,1   0 1,1,2,1\n",
      "Nicest legs in :  0 1,1,2,1   0 2,1,1,1\n",
      "Nothing like a :  0 1,1,1,2   0 1,2,1,1\n",
      "Comey hold me c:  0 2,1,1,1   0 2,1,1,1\n",
      "Eat Sleep Debat:  0 2,1,1,1   0 2,1,1,1\n",
      "Our Auditor is :  0 1,1,2,1   0 1,1,2,1\n",
      "  Alpha Badgers:  0 2,1,1,1   0 2,1,1,1\n",
      "ours total: 0 , comparison total: 8\n"
     ]
    }
   ],
   "source": [
    "data = wudc.read_input_file(\"data/corkopen2017/round4_after.tsv\")\n",
    "rooms = wudc.generate_draw(data)\n",
    "print(\"Our draw:\")\n",
    "wudc.show_rooms(rooms)\n",
    "print(\"Original draw:\")\n",
    "wudc.show_original_rooms(data, \"data/corkopen2017/round5_actual.tsv\")\n",
    "wudc.compare_badness(rooms, \"data/corkopen2017/round5_after.tsv\")"
   ]
  }
 ],
 "metadata": {
  "kernelspec": {
   "display_name": "Python 3",
   "language": "python",
   "name": "python3"
  },
  "language_info": {
   "codemirror_mode": {
    "name": "ipython",
    "version": 3
   },
   "file_extension": ".py",
   "mimetype": "text/x-python",
   "name": "python",
   "nbconvert_exporter": "python",
   "pygments_lexer": "ipython3",
   "version": "3.5.2"
  }
 },
 "nbformat": 4,
 "nbformat_minor": 1
}

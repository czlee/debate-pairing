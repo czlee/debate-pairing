{
 "cells": [
  {
   "cell_type": "code",
   "execution_count": 1,
   "metadata": {
    "scrolled": true
   },
   "outputs": [],
   "source": [
    "import random\n",
    "from collections import Counter\n",
    "from munkres import Munkres\n",
    "niterations = 16000\n",
    "\n",
    "# Check if this is the modified randomized version of the Munkres library,\n",
    "# available at https://github.com/czlee/munkres/.\n",
    "try:\n",
    "    Munkres(random=True)\n",
    "except TypeError:\n",
    "    randomized_munkres = False\n",
    "else:\n",
    "    randomized_munkres = True"
   ]
  },
  {
   "cell_type": "code",
   "execution_count": 2,
   "metadata": {
    "collapsed": true,
    "scrolled": true
   },
   "outputs": [],
   "source": [
    "def hungarian_shuffle_first(costs):\n",
    "    \"\"\"Applies the Hungarian algorithm to `costs`, but permutes the rows and\n",
    "    columns of the matrix first. Returns a list of column numbers.\"\"\"\n",
    "    n = len(costs)\n",
    "    I = random.sample(range(n), n)\n",
    "    J = random.sample(range(n), n)\n",
    "    C = [[costs[i][j] for j in J] for i in I]\n",
    "    m = Munkres()\n",
    "    indices = m.compute(C)\n",
    "    cols = [0] * n\n",
    "    for i, j in indices:\n",
    "        cols[I[i]] = J[j]\n",
    "    return cols\n",
    "\n",
    "def hungarian_shuffle_during(costs):\n",
    "    \"\"\"Applies a randomized version of the Hungarian algorithm.\n",
    "    This only works with a modified version of the Munkres library, which\n",
    "    can be cloned from https://github.com/czlee/munkres/.\n",
    "    Randomizing during the algorithm seemed to have much the same effect as\n",
    "    shuffling before it, so won't be pushing these changes into a pull\n",
    "    request.\"\"\"\n",
    "    m = Munkres(random=True)\n",
    "    indices = m.compute(costs)\n",
    "    cols = [0] * len(costs)\n",
    "    for i, j in indices:\n",
    "        cols[i] = j\n",
    "    return cols\n",
    "\n",
    "def total_cost(costs, cols):\n",
    "    \"\"\"Computes the total cost according to `costs`, of the chosen columns\n",
    "    `cols`.\"\"\"\n",
    "    rows = range(len(costs))\n",
    "    return sum(costs[i][j] for i, j in zip(rows, cols))\n",
    "\n",
    "def generate_bp_costs(d, k):\n",
    "    \"\"\"Generates an `4d`-by-`4d` cost matrix that assumes there have been\n",
    "    `k` debates before now. (`d` represents the number of BP debates.)\"\"\"\n",
    "    costs = []\n",
    "    for i in range(4 * d):\n",
    "        history = [random.choice(range(4)) for i in range(k)]\n",
    "        counts = [history.count(pos) for pos in range(4)]\n",
    "        row = counts * d  # replicate list `d` times\n",
    "        costs.append(row)\n",
    "    return costs\n",
    "        \n",
    "def run_simulations(costs, niterations, allocate):\n",
    "    \"\"\"Runs the Munkres-shuffle-first algorithm on the matrix `costs`\n",
    "    `niterations` times, and returns a dict mapping solutions to\n",
    "    frequencies (how many iterations that solution was obtained).\"\"\"\n",
    "    results = Counter()\n",
    "    for i in range(niterations):\n",
    "        results[tuple(allocate(costs))] += 1\n",
    "    return results\n",
    "\n",
    "def verify_costs(costs, solutions):\n",
    "    \"\"\"Verifies that every key in solutions gives the same cost, and\n",
    "    returns that cost if so.\"\"\"\n",
    "    total_costs = [total_cost(costs, solution) for solution in solutions]\n",
    "    assert len(set(total_costs)) == 1\n",
    "    return total_costs[0]\n",
    "\n",
    "def frequencies_by_position(results):\n",
    "    \"\"\"Converts a sequence of solutions into just the positions (0 to 3,\n",
    "    representing the 4 BP positions), and returns a dict mapping each such\n",
    "    sequence to a list of frequencies for solutions that reduce to that \n",
    "    sequence of positions. Useful only for results of cost matrices generated \n",
    "    by `generate_bp_costs`.\"\"\"\n",
    "    reduced = {}\n",
    "    for solution, frequency in results.items():\n",
    "        positions = tuple(x % 4 for x in solution)\n",
    "        frequencies = reduced.setdefault(positions, [])\n",
    "        frequencies.append(frequency)\n",
    "    return reduced"
   ]
  },
  {
   "cell_type": "markdown",
   "metadata": {},
   "source": [
    "# British Parliamentary-like simulation"
   ]
  },
  {
   "cell_type": "code",
   "execution_count": 3,
   "metadata": {
    "scrolled": true
   },
   "outputs": [
    {
     "data": {
      "text/plain": [
       "[[0, 3, 0, 0, 0, 3, 0, 0],\n",
       " [1, 0, 1, 1, 1, 0, 1, 1],\n",
       " [2, 0, 1, 0, 2, 0, 1, 0],\n",
       " [1, 1, 0, 1, 1, 1, 0, 1],\n",
       " [2, 0, 0, 1, 2, 0, 0, 1],\n",
       " [1, 1, 1, 0, 1, 1, 1, 0],\n",
       " [1, 0, 2, 0, 1, 0, 2, 0],\n",
       " [1, 1, 0, 1, 1, 1, 0, 1]]"
      ]
     },
     "execution_count": 3,
     "metadata": {},
     "output_type": "execute_result"
    }
   ],
   "source": [
    "costs = generate_bp_costs(2, 3)\n",
    "costs"
   ]
  },
  {
   "cell_type": "code",
   "execution_count": 4,
   "metadata": {
    "scrolled": true
   },
   "outputs": [
    {
     "data": {
      "text/plain": [
       "Counter({(0, 1, 3, 2, 5, 4, 7, 6): 141,\n",
       "         (0, 1, 3, 2, 5, 7, 4, 6): 113,\n",
       "         (0, 1, 3, 2, 6, 7, 5, 4): 117,\n",
       "         (0, 1, 3, 4, 2, 7, 5, 6): 130,\n",
       "         (0, 1, 3, 4, 6, 7, 5, 2): 114,\n",
       "         (0, 1, 3, 6, 2, 7, 5, 4): 107,\n",
       "         (0, 1, 3, 6, 5, 4, 7, 2): 116,\n",
       "         (0, 1, 3, 6, 5, 7, 4, 2): 107,\n",
       "         (0, 1, 5, 2, 6, 3, 7, 4): 124,\n",
       "         (0, 1, 5, 2, 6, 7, 3, 4): 137,\n",
       "         (0, 1, 5, 4, 2, 3, 7, 6): 120,\n",
       "         (0, 1, 5, 4, 2, 7, 3, 6): 120,\n",
       "         (0, 1, 5, 4, 6, 3, 7, 2): 123,\n",
       "         (0, 1, 5, 4, 6, 7, 3, 2): 110,\n",
       "         (0, 1, 5, 6, 2, 3, 7, 4): 114,\n",
       "         (0, 1, 5, 6, 2, 7, 3, 4): 114,\n",
       "         (0, 1, 7, 2, 5, 3, 4, 6): 125,\n",
       "         (0, 1, 7, 2, 5, 4, 3, 6): 160,\n",
       "         (0, 1, 7, 2, 6, 3, 5, 4): 123,\n",
       "         (0, 1, 7, 4, 2, 3, 5, 6): 114,\n",
       "         (0, 1, 7, 4, 6, 3, 5, 2): 127,\n",
       "         (0, 1, 7, 6, 2, 3, 5, 4): 122,\n",
       "         (0, 1, 7, 6, 5, 3, 4, 2): 129,\n",
       "         (0, 1, 7, 6, 5, 4, 3, 2): 127,\n",
       "         (0, 4, 1, 2, 5, 3, 7, 6): 137,\n",
       "         (0, 4, 1, 2, 5, 7, 3, 6): 159,\n",
       "         (0, 4, 1, 6, 5, 3, 7, 2): 114,\n",
       "         (0, 4, 1, 6, 5, 7, 3, 2): 120,\n",
       "         (0, 4, 3, 2, 1, 7, 5, 6): 125,\n",
       "         (0, 4, 3, 2, 5, 7, 1, 6): 119,\n",
       "         (0, 4, 3, 6, 1, 7, 5, 2): 126,\n",
       "         (0, 4, 3, 6, 5, 7, 1, 2): 127,\n",
       "         (0, 4, 5, 2, 1, 3, 7, 6): 157,\n",
       "         (0, 4, 5, 2, 1, 7, 3, 6): 147,\n",
       "         (0, 4, 5, 6, 1, 3, 7, 2): 130,\n",
       "         (0, 4, 5, 6, 1, 7, 3, 2): 148,\n",
       "         (0, 4, 7, 2, 1, 3, 5, 6): 123,\n",
       "         (0, 4, 7, 2, 5, 3, 1, 6): 122,\n",
       "         (0, 4, 7, 6, 1, 3, 5, 2): 124,\n",
       "         (0, 4, 7, 6, 5, 3, 1, 2): 109,\n",
       "         (0, 5, 1, 2, 6, 3, 7, 4): 113,\n",
       "         (0, 5, 1, 2, 6, 7, 3, 4): 140,\n",
       "         (0, 5, 1, 4, 2, 3, 7, 6): 124,\n",
       "         (0, 5, 1, 4, 2, 7, 3, 6): 122,\n",
       "         (0, 5, 1, 4, 6, 3, 7, 2): 126,\n",
       "         (0, 5, 1, 4, 6, 7, 3, 2): 104,\n",
       "         (0, 5, 1, 6, 2, 3, 7, 4): 140,\n",
       "         (0, 5, 1, 6, 2, 7, 3, 4): 118,\n",
       "         (0, 5, 3, 2, 1, 4, 7, 6): 144,\n",
       "         (0, 5, 3, 2, 1, 7, 4, 6): 115,\n",
       "         (0, 5, 3, 2, 6, 7, 1, 4): 102,\n",
       "         (0, 5, 3, 4, 2, 7, 1, 6): 107,\n",
       "         (0, 5, 3, 4, 6, 7, 1, 2): 127,\n",
       "         (0, 5, 3, 6, 1, 4, 7, 2): 160,\n",
       "         (0, 5, 3, 6, 1, 7, 4, 2): 110,\n",
       "         (0, 5, 3, 6, 2, 7, 1, 4): 108,\n",
       "         (0, 5, 7, 2, 1, 3, 4, 6): 99,\n",
       "         (0, 5, 7, 2, 1, 4, 3, 6): 162,\n",
       "         (0, 5, 7, 2, 6, 3, 1, 4): 127,\n",
       "         (0, 5, 7, 4, 2, 3, 1, 6): 106,\n",
       "         (0, 5, 7, 4, 6, 3, 1, 2): 118,\n",
       "         (0, 5, 7, 6, 1, 3, 4, 2): 126,\n",
       "         (0, 5, 7, 6, 1, 4, 3, 2): 153,\n",
       "         (0, 5, 7, 6, 2, 3, 1, 4): 100,\n",
       "         (4, 0, 1, 2, 5, 3, 7, 6): 165,\n",
       "         (4, 0, 1, 2, 5, 7, 3, 6): 154,\n",
       "         (4, 0, 1, 6, 5, 3, 7, 2): 152,\n",
       "         (4, 0, 1, 6, 5, 7, 3, 2): 150,\n",
       "         (4, 0, 3, 2, 1, 7, 5, 6): 128,\n",
       "         (4, 0, 3, 2, 5, 7, 1, 6): 99,\n",
       "         (4, 0, 3, 6, 1, 7, 5, 2): 108,\n",
       "         (4, 0, 3, 6, 5, 7, 1, 2): 109,\n",
       "         (4, 0, 5, 2, 1, 3, 7, 6): 134,\n",
       "         (4, 0, 5, 2, 1, 7, 3, 6): 161,\n",
       "         (4, 0, 5, 6, 1, 3, 7, 2): 146,\n",
       "         (4, 0, 5, 6, 1, 7, 3, 2): 155,\n",
       "         (4, 0, 7, 2, 1, 3, 5, 6): 145,\n",
       "         (4, 0, 7, 2, 5, 3, 1, 6): 125,\n",
       "         (4, 0, 7, 6, 1, 3, 5, 2): 97,\n",
       "         (4, 0, 7, 6, 5, 3, 1, 2): 120,\n",
       "         (4, 1, 3, 0, 2, 7, 5, 6): 103,\n",
       "         (4, 1, 3, 0, 6, 7, 5, 2): 120,\n",
       "         (4, 1, 3, 2, 5, 0, 7, 6): 143,\n",
       "         (4, 1, 3, 2, 5, 7, 0, 6): 112,\n",
       "         (4, 1, 3, 2, 6, 7, 5, 0): 127,\n",
       "         (4, 1, 3, 6, 2, 7, 5, 0): 113,\n",
       "         (4, 1, 3, 6, 5, 0, 7, 2): 159,\n",
       "         (4, 1, 3, 6, 5, 7, 0, 2): 112,\n",
       "         (4, 1, 5, 0, 2, 3, 7, 6): 122,\n",
       "         (4, 1, 5, 0, 2, 7, 3, 6): 127,\n",
       "         (4, 1, 5, 0, 6, 3, 7, 2): 132,\n",
       "         (4, 1, 5, 0, 6, 7, 3, 2): 118,\n",
       "         (4, 1, 5, 2, 6, 3, 7, 0): 111,\n",
       "         (4, 1, 5, 2, 6, 7, 3, 0): 119,\n",
       "         (4, 1, 5, 6, 2, 3, 7, 0): 142,\n",
       "         (4, 1, 5, 6, 2, 7, 3, 0): 113,\n",
       "         (4, 1, 7, 0, 2, 3, 5, 6): 142,\n",
       "         (4, 1, 7, 0, 6, 3, 5, 2): 120,\n",
       "         (4, 1, 7, 2, 5, 0, 3, 6): 141,\n",
       "         (4, 1, 7, 2, 5, 3, 0, 6): 113,\n",
       "         (4, 1, 7, 2, 6, 3, 5, 0): 130,\n",
       "         (4, 1, 7, 6, 2, 3, 5, 0): 125,\n",
       "         (4, 1, 7, 6, 5, 0, 3, 2): 139,\n",
       "         (4, 1, 7, 6, 5, 3, 0, 2): 110,\n",
       "         (4, 5, 1, 0, 2, 3, 7, 6): 118,\n",
       "         (4, 5, 1, 0, 2, 7, 3, 6): 128,\n",
       "         (4, 5, 1, 0, 6, 3, 7, 2): 131,\n",
       "         (4, 5, 1, 0, 6, 7, 3, 2): 117,\n",
       "         (4, 5, 1, 2, 6, 3, 7, 0): 110,\n",
       "         (4, 5, 1, 2, 6, 7, 3, 0): 110,\n",
       "         (4, 5, 1, 6, 2, 3, 7, 0): 120,\n",
       "         (4, 5, 1, 6, 2, 7, 3, 0): 128,\n",
       "         (4, 5, 3, 0, 2, 7, 1, 6): 102,\n",
       "         (4, 5, 3, 0, 6, 7, 1, 2): 133,\n",
       "         (4, 5, 3, 2, 1, 0, 7, 6): 133,\n",
       "         (4, 5, 3, 2, 1, 7, 0, 6): 122,\n",
       "         (4, 5, 3, 2, 6, 7, 1, 0): 133,\n",
       "         (4, 5, 3, 6, 1, 0, 7, 2): 153,\n",
       "         (4, 5, 3, 6, 1, 7, 0, 2): 99,\n",
       "         (4, 5, 3, 6, 2, 7, 1, 0): 93,\n",
       "         (4, 5, 7, 0, 2, 3, 1, 6): 101,\n",
       "         (4, 5, 7, 0, 6, 3, 1, 2): 130,\n",
       "         (4, 5, 7, 2, 1, 0, 3, 6): 150,\n",
       "         (4, 5, 7, 2, 1, 3, 0, 6): 103,\n",
       "         (4, 5, 7, 2, 6, 3, 1, 0): 114,\n",
       "         (4, 5, 7, 6, 1, 0, 3, 2): 142,\n",
       "         (4, 5, 7, 6, 1, 3, 0, 2): 118,\n",
       "         (4, 5, 7, 6, 2, 3, 1, 0): 99})"
      ]
     },
     "execution_count": 4,
     "metadata": {},
     "output_type": "execute_result"
    }
   ],
   "source": [
    "results = run_simulations(costs, niterations, hungarian_shuffle_first)\n",
    "results"
   ]
  },
  {
   "cell_type": "code",
   "execution_count": 5,
   "metadata": {
    "scrolled": true
   },
   "outputs": [
    {
     "data": {
      "text/plain": [
       "{(0, 0, 1, 2, 1, 3, 3, 2): [165,\n",
       "  147,\n",
       "  137,\n",
       "  159,\n",
       "  148,\n",
       "  152,\n",
       "  161,\n",
       "  130,\n",
       "  154,\n",
       "  120,\n",
       "  157,\n",
       "  155,\n",
       "  146,\n",
       "  150,\n",
       "  134,\n",
       "  114],\n",
       " (0, 0, 3, 2, 1, 3, 1, 2): [99,\n",
       "  126,\n",
       "  128,\n",
       "  127,\n",
       "  123,\n",
       "  124,\n",
       "  145,\n",
       "  125,\n",
       "  122,\n",
       "  109,\n",
       "  120,\n",
       "  97,\n",
       "  119,\n",
       "  108,\n",
       "  125,\n",
       "  109],\n",
       " (0, 1, 1, 0, 2, 3, 3, 2): [128,\n",
       "  126,\n",
       "  120,\n",
       "  132,\n",
       "  117,\n",
       "  123,\n",
       "  127,\n",
       "  118,\n",
       "  124,\n",
       "  104,\n",
       "  122,\n",
       "  131,\n",
       "  122,\n",
       "  110,\n",
       "  118,\n",
       "  120],\n",
       " (0, 1, 1, 2, 2, 3, 3, 0): [110,\n",
       "  110,\n",
       "  113,\n",
       "  128,\n",
       "  140,\n",
       "  119,\n",
       "  120,\n",
       "  140,\n",
       "  137,\n",
       "  114,\n",
       "  118,\n",
       "  142,\n",
       "  113,\n",
       "  124,\n",
       "  114,\n",
       "  111],\n",
       " (0, 1, 3, 0, 2, 3, 1, 2): [127,\n",
       "  118,\n",
       "  107,\n",
       "  102,\n",
       "  120,\n",
       "  130,\n",
       "  142,\n",
       "  130,\n",
       "  103,\n",
       "  106,\n",
       "  114,\n",
       "  101,\n",
       "  120,\n",
       "  114,\n",
       "  133,\n",
       "  127],\n",
       " (0, 1, 3, 2, 1, 0, 3, 2): [160,\n",
       "  159,\n",
       "  127,\n",
       "  143,\n",
       "  153,\n",
       "  133,\n",
       "  141,\n",
       "  116,\n",
       "  162,\n",
       "  153,\n",
       "  160,\n",
       "  144,\n",
       "  150,\n",
       "  141,\n",
       "  142,\n",
       "  139],\n",
       " (0, 1, 3, 2, 1, 3, 0, 2): [118,\n",
       "  115,\n",
       "  129,\n",
       "  99,\n",
       "  110,\n",
       "  99,\n",
       "  103,\n",
       "  112,\n",
       "  126,\n",
       "  112,\n",
       "  113,\n",
       "  122,\n",
       "  110,\n",
       "  107,\n",
       "  125,\n",
       "  113],\n",
       " (0, 1, 3, 2, 2, 3, 1, 0): [99,\n",
       "  122,\n",
       "  93,\n",
       "  125,\n",
       "  107,\n",
       "  114,\n",
       "  117,\n",
       "  102,\n",
       "  100,\n",
       "  130,\n",
       "  108,\n",
       "  127,\n",
       "  133,\n",
       "  127,\n",
       "  123,\n",
       "  113]}"
      ]
     },
     "execution_count": 5,
     "metadata": {},
     "output_type": "execute_result"
    }
   ],
   "source": [
    "frequencies_by_position(results)"
   ]
  },
  {
   "cell_type": "code",
   "execution_count": 6,
   "metadata": {
    "scrolled": false
   },
   "outputs": [
    {
     "data": {
      "text/plain": [
       "1"
      ]
     },
     "execution_count": 6,
     "metadata": {},
     "output_type": "execute_result"
    }
   ],
   "source": [
    "verify_costs(costs, results)"
   ]
  },
  {
   "cell_type": "code",
   "execution_count": 7,
   "metadata": {
    "scrolled": false
   },
   "outputs": [],
   "source": [
    "# Only run the next three cells if the randomized version of munkres is available\n",
    "results = run_simulations(costs, niterations, hungarian_shuffle_during) if randomized_munkres else None"
   ]
  },
  {
   "cell_type": "code",
   "execution_count": 8,
   "metadata": {
    "scrolled": true
   },
   "outputs": [
    {
     "data": {
      "text/plain": [
       "{(0, 0, 1, 2, 1, 3, 3, 2): [149,\n",
       "  151,\n",
       "  137,\n",
       "  129,\n",
       "  161,\n",
       "  133,\n",
       "  142,\n",
       "  152,\n",
       "  137,\n",
       "  142,\n",
       "  162,\n",
       "  142,\n",
       "  138,\n",
       "  153,\n",
       "  131,\n",
       "  131],\n",
       " (0, 0, 3, 2, 1, 3, 1, 2): [96,\n",
       "  102,\n",
       "  109,\n",
       "  121,\n",
       "  118,\n",
       "  115,\n",
       "  98,\n",
       "  115,\n",
       "  111,\n",
       "  112,\n",
       "  111,\n",
       "  107,\n",
       "  120,\n",
       "  121,\n",
       "  103,\n",
       "  109],\n",
       " (0, 1, 1, 0, 2, 3, 3, 2): [138,\n",
       "  113,\n",
       "  105,\n",
       "  138,\n",
       "  111,\n",
       "  128,\n",
       "  122,\n",
       "  116,\n",
       "  126,\n",
       "  118,\n",
       "  129,\n",
       "  123,\n",
       "  141,\n",
       "  111,\n",
       "  132,\n",
       "  126],\n",
       " (0, 1, 1, 2, 2, 3, 3, 0): [154,\n",
       "  118,\n",
       "  102,\n",
       "  123,\n",
       "  110,\n",
       "  133,\n",
       "  134,\n",
       "  141,\n",
       "  122,\n",
       "  129,\n",
       "  141,\n",
       "  133,\n",
       "  110,\n",
       "  118,\n",
       "  139,\n",
       "  139],\n",
       " (0, 1, 3, 0, 2, 3, 1, 2): [112,\n",
       "  121,\n",
       "  90,\n",
       "  116,\n",
       "  127,\n",
       "  117,\n",
       "  116,\n",
       "  106,\n",
       "  113,\n",
       "  98,\n",
       "  104,\n",
       "  106,\n",
       "  110,\n",
       "  118,\n",
       "  110,\n",
       "  125],\n",
       " (0, 1, 3, 2, 1, 0, 3, 2): [144,\n",
       "  130,\n",
       "  123,\n",
       "  119,\n",
       "  138,\n",
       "  115,\n",
       "  128,\n",
       "  122,\n",
       "  126,\n",
       "  129,\n",
       "  121,\n",
       "  133,\n",
       "  126,\n",
       "  124,\n",
       "  138,\n",
       "  123],\n",
       " (0, 1, 3, 2, 1, 3, 0, 2): [153,\n",
       "  127,\n",
       "  126,\n",
       "  141,\n",
       "  154,\n",
       "  145,\n",
       "  135,\n",
       "  134,\n",
       "  142,\n",
       "  135,\n",
       "  153,\n",
       "  134,\n",
       "  134,\n",
       "  150,\n",
       "  148,\n",
       "  130],\n",
       " (0, 1, 3, 2, 2, 3, 1, 0): [126,\n",
       "  109,\n",
       "  121,\n",
       "  94,\n",
       "  116,\n",
       "  126,\n",
       "  115,\n",
       "  123,\n",
       "  109,\n",
       "  118,\n",
       "  105,\n",
       "  126,\n",
       "  132,\n",
       "  100,\n",
       "  121,\n",
       "  109]}"
      ]
     },
     "execution_count": 8,
     "metadata": {},
     "output_type": "execute_result"
    }
   ],
   "source": [
    "frequencies_by_position(results) if randomized_munkres else None"
   ]
  },
  {
   "cell_type": "code",
   "execution_count": 9,
   "metadata": {
    "scrolled": false
   },
   "outputs": [
    {
     "data": {
      "text/plain": [
       "1"
      ]
     },
     "execution_count": 9,
     "metadata": {},
     "output_type": "execute_result"
    }
   ],
   "source": [
    "verify_costs(costs, results) if randomized_munkres else None"
   ]
  },
  {
   "cell_type": "markdown",
   "metadata": {},
   "source": [
    "# Random (Bernoulli i.i.d.) costs"
   ]
  },
  {
   "cell_type": "code",
   "execution_count": 10,
   "metadata": {
    "collapsed": true,
    "scrolled": true
   },
   "outputs": [],
   "source": [
    "def generate_random_costs(n, p):\n",
    "    \"\"\"Generates an `n`-by-`n` cost matrix in which each elements is\n",
    "    i.i.d. Bernoulli(p). This is probably not a realistic cost matrix\n",
    "    for a BP bracket.\"\"\"\n",
    "    return [[int(random.random() < p) for i in range(n)] for j in range(n)]"
   ]
  },
  {
   "cell_type": "code",
   "execution_count": 11,
   "metadata": {
    "scrolled": true
   },
   "outputs": [
    {
     "data": {
      "text/plain": [
       "[[0, 1, 1, 1, 1, 0, 1, 1],\n",
       " [1, 1, 1, 0, 1, 0, 1, 1],\n",
       " [1, 1, 0, 0, 1, 1, 0, 1],\n",
       " [1, 1, 1, 1, 0, 1, 1, 0],\n",
       " [1, 1, 1, 1, 0, 1, 0, 1],\n",
       " [1, 1, 1, 1, 0, 1, 1, 0],\n",
       " [1, 0, 0, 0, 1, 1, 1, 0],\n",
       " [1, 0, 1, 1, 1, 1, 0, 1]]"
      ]
     },
     "execution_count": 11,
     "metadata": {},
     "output_type": "execute_result"
    }
   ],
   "source": [
    "costs = generate_random_costs(8, 2/3)\n",
    "costs"
   ]
  },
  {
   "cell_type": "code",
   "execution_count": 12,
   "metadata": {
    "scrolled": false
   },
   "outputs": [
    {
     "data": {
      "text/plain": [
       "Counter({(0, 5, 2, 4, 6, 7, 3, 1): 4208,\n",
       "         (0, 5, 2, 7, 6, 4, 3, 1): 4179,\n",
       "         (0, 5, 3, 4, 6, 7, 2, 1): 3787,\n",
       "         (0, 5, 3, 7, 6, 4, 2, 1): 3826})"
      ]
     },
     "execution_count": 12,
     "metadata": {},
     "output_type": "execute_result"
    }
   ],
   "source": [
    "results = run_simulations(costs, niterations, hungarian_shuffle_first)\n",
    "results"
   ]
  },
  {
   "cell_type": "code",
   "execution_count": null,
   "metadata": {
    "scrolled": false
   },
   "outputs": [
    {
     "data": {
      "text/plain": [
       "0"
      ]
     },
     "execution_count": 13,
     "metadata": {},
     "output_type": "execute_result"
    }
   ],
   "source": [
    "verify_costs(costs, results)"
   ]
  },
  {
   "cell_type": "code",
   "execution_count": null,
   "metadata": {
    "scrolled": false
   },
   "outputs": [],
   "source": [
    "# Only run the next two cells if the randomized version of munkres is available\n",
    "results = run_simulations(costs, niterations, hungarian_shuffle_during) if randomized_munkres else None\n",
    "results"
   ]
  },
  {
   "cell_type": "code",
   "execution_count": null,
   "metadata": {
    "scrolled": false
   },
   "outputs": [],
   "source": [
    "verify_costs(costs, results) if randomized_munkres else None"
   ]
  }
 ],
 "metadata": {
  "kernelspec": {
   "display_name": "Python 3",
   "language": "python",
   "name": "python3"
  },
  "language_info": {
   "codemirror_mode": {
    "name": "ipython",
    "version": 3
   },
   "file_extension": ".py",
   "mimetype": "text/x-python",
   "name": "python",
   "nbconvert_exporter": "python",
   "pygments_lexer": "ipython3",
   "version": "3.5.2"
  }
 },
 "nbformat": 4,
 "nbformat_minor": 1
}

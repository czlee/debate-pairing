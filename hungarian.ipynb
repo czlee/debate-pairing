{
 "cells": [
  {
   "cell_type": "markdown",
   "metadata": {},
   "source": [
    "# Hungarian algorithm for BP pairings\n",
    "_Chuan-Zheng Lee <czlee@stanford.edu>_\n",
    "\n",
    "This notebook does a very simple trial of using the Hungarian algorithm to generate pairings for a BP tournament.\n",
    "\n",
    "The traditional Hungarian algorithm doesn't try to choose randomly; it simply chooses whichever optimal solution it happens to come across first. There are two ideas to \"randomise\" the Hungarian algorithm in this notebook:\n",
    "\n",
    "1. Shuffle the rows and columns of the cost matrix first, then run the Hungarian algorithm on this shuffled matrix\n",
    "2. Pass in the cost matrix as-is, but during the algorithm, in stages where we are looking for the first row or column, search throw the rows or columns in random order.\n",
    "\n",
    "We try this for two situations, both involving an eight-team bracket:\n",
    "\n",
    "1. A \"BP-like\" cost matrix, which is generated assuming that teams have so far had three rounds, and intentionally ensuring that the same positions in both rooms are of the same cost.\n",
    "2. A Bernoulli i.i.d. cost matrix, with parameter p = 2/3.\n",
    "\n",
    "It doesn't appear that the two methods of randomisation are any different to each other."
   ]
  },
  {
   "cell_type": "code",
   "execution_count": 1,
   "metadata": {
    "scrolled": true
   },
   "outputs": [],
   "source": [
    "import random\n",
    "from collections import Counter\n",
    "from munkres import Munkres\n",
    "niterations = 16000\n",
    "\n",
    "# Check if this is the modified randomized version of the Munkres library,\n",
    "# available at https://github.com/czlee/munkres/.\n",
    "try:\n",
    "    Munkres(random=True)\n",
    "except TypeError:\n",
    "    randomized_munkres = False\n",
    "else:\n",
    "    randomized_munkres = True"
   ]
  },
  {
   "cell_type": "code",
   "execution_count": 2,
   "metadata": {
    "collapsed": true,
    "scrolled": true
   },
   "outputs": [],
   "source": [
    "def hungarian_shuffle_first(costs):\n",
    "    \"\"\"Applies the Hungarian algorithm to `costs`, but permutes the rows and\n",
    "    columns of the matrix first. Returns a list of column numbers.\"\"\"\n",
    "    n = len(costs)\n",
    "    I = random.sample(range(n), n)\n",
    "    J = random.sample(range(n), n)\n",
    "    C = [[costs[i][j] for j in J] for i in I]\n",
    "    m = Munkres()\n",
    "    indices = m.compute(C)\n",
    "    cols = [0] * n\n",
    "    for i, j in indices:\n",
    "        cols[I[i]] = J[j]\n",
    "    return cols\n",
    "\n",
    "def hungarian_shuffle_during(costs):\n",
    "    \"\"\"Applies a randomized version of the Hungarian algorithm.\n",
    "    This only works with a modified version of the Munkres library, which\n",
    "    can be cloned from https://github.com/czlee/munkres/.\n",
    "    Randomizing during the algorithm seemed to have much the same effect as\n",
    "    shuffling before it, so won't be pushing these changes into a pull\n",
    "    request.\"\"\"\n",
    "    m = Munkres(random=True)\n",
    "    indices = m.compute(costs)\n",
    "    cols = [0] * len(costs)\n",
    "    for i, j in indices:\n",
    "        cols[i] = j\n",
    "    return cols\n",
    "\n",
    "def total_cost(costs, cols):\n",
    "    \"\"\"Computes the total cost according to `costs`, of the chosen columns\n",
    "    `cols`.\"\"\"\n",
    "    rows = range(len(costs))\n",
    "    return sum(costs[i][j] for i, j in zip(rows, cols))\n",
    "\n",
    "def generate_bp_costs(d, k):\n",
    "    \"\"\"Generates an `4d`-by-`4d` cost matrix that assumes there have been\n",
    "    `k` debates before now. (`d` represents the number of BP debates.)\"\"\"\n",
    "    costs = []\n",
    "    for i in range(4 * d):\n",
    "        history = [random.choice(range(4)) for i in range(k)]\n",
    "        counts = [history.count(pos) for pos in range(4)]\n",
    "        row = counts * d  # replicate list `d` times\n",
    "        costs.append(row)\n",
    "    return costs\n",
    "        \n",
    "def run_simulations(costs, niterations, allocate):\n",
    "    \"\"\"Runs the Munkres-shuffle-first algorithm on the matrix `costs`\n",
    "    `niterations` times, and returns a dict mapping solutions to\n",
    "    frequencies (how many iterations that solution was obtained).\"\"\"\n",
    "    results = Counter()\n",
    "    for i in range(niterations):\n",
    "        results[tuple(allocate(costs))] += 1\n",
    "    return results\n",
    "\n",
    "def verify_costs(costs, solutions):\n",
    "    \"\"\"Verifies that every key in solutions gives the same cost, and\n",
    "    returns that cost if so.\"\"\"\n",
    "    total_costs = [total_cost(costs, solution) for solution in solutions]\n",
    "    assert len(set(total_costs)) == 1\n",
    "    return total_costs[0]\n",
    "\n",
    "def frequencies_by_position(results):\n",
    "    \"\"\"Converts a sequence of solutions into just the positions (0 to 3,\n",
    "    representing the 4 BP positions), and returns a dict mapping each such\n",
    "    sequence to a list of frequencies for solutions that reduce to that \n",
    "    sequence of positions. Useful only for results of cost matrices generated \n",
    "    by `generate_bp_costs`.\"\"\"\n",
    "    reduced = {}\n",
    "    for solution, frequency in results.items():\n",
    "        positions = tuple(x % 4 for x in solution)\n",
    "        frequencies = reduced.setdefault(positions, [])\n",
    "        frequencies.append(frequency)\n",
    "    return reduced"
   ]
  },
  {
   "cell_type": "markdown",
   "metadata": {},
   "source": [
    "## British Parliamentary-like simulation"
   ]
  },
  {
   "cell_type": "code",
   "execution_count": 3,
   "metadata": {
    "scrolled": true
   },
   "outputs": [
    {
     "data": {
      "text/plain": [
       "[[0, 2, 1, 0, 0, 2, 1, 0],\n",
       " [2, 1, 0, 0, 2, 1, 0, 0],\n",
       " [2, 0, 1, 0, 2, 0, 1, 0],\n",
       " [0, 2, 1, 0, 0, 2, 1, 0],\n",
       " [1, 1, 1, 0, 1, 1, 1, 0],\n",
       " [2, 0, 0, 1, 2, 0, 0, 1],\n",
       " [1, 2, 0, 0, 1, 2, 0, 0],\n",
       " [2, 0, 1, 0, 2, 0, 1, 0]]"
      ]
     },
     "execution_count": 3,
     "metadata": {},
     "output_type": "execute_result"
    }
   ],
   "source": [
    "costs = generate_bp_costs(2, 3)\n",
    "costs"
   ]
  },
  {
   "cell_type": "code",
   "execution_count": 4,
   "metadata": {
    "scrolled": true
   },
   "outputs": [
    {
     "data": {
      "text/plain": [
       "Counter({(0, 2, 1, 4, 3, 5, 6, 7): 255,\n",
       "         (0, 2, 1, 4, 3, 6, 7, 5): 248,\n",
       "         (0, 2, 1, 4, 7, 5, 6, 3): 260,\n",
       "         (0, 2, 1, 4, 7, 6, 3, 5): 259,\n",
       "         (0, 2, 3, 4, 7, 1, 6, 5): 261,\n",
       "         (0, 2, 3, 4, 7, 5, 6, 1): 238,\n",
       "         (0, 2, 5, 4, 3, 1, 6, 7): 267,\n",
       "         (0, 2, 5, 4, 3, 6, 7, 1): 258,\n",
       "         (0, 2, 5, 4, 7, 1, 6, 3): 251,\n",
       "         (0, 2, 5, 4, 7, 6, 3, 1): 258,\n",
       "         (0, 2, 7, 4, 3, 1, 6, 5): 266,\n",
       "         (0, 2, 7, 4, 3, 5, 6, 1): 230,\n",
       "         (0, 3, 1, 4, 7, 2, 6, 5): 271,\n",
       "         (0, 3, 1, 4, 7, 6, 2, 5): 261,\n",
       "         (0, 3, 5, 4, 7, 2, 6, 1): 252,\n",
       "         (0, 3, 5, 4, 7, 6, 2, 1): 249,\n",
       "         (0, 6, 1, 4, 3, 2, 7, 5): 230,\n",
       "         (0, 6, 1, 4, 3, 5, 2, 7): 247,\n",
       "         (0, 6, 1, 4, 7, 2, 3, 5): 269,\n",
       "         (0, 6, 1, 4, 7, 5, 2, 3): 220,\n",
       "         (0, 6, 3, 4, 7, 1, 2, 5): 232,\n",
       "         (0, 6, 3, 4, 7, 5, 2, 1): 237,\n",
       "         (0, 6, 5, 4, 3, 1, 2, 7): 251,\n",
       "         (0, 6, 5, 4, 3, 2, 7, 1): 242,\n",
       "         (0, 6, 5, 4, 7, 1, 2, 3): 256,\n",
       "         (0, 6, 5, 4, 7, 2, 3, 1): 248,\n",
       "         (0, 6, 7, 4, 3, 1, 2, 5): 245,\n",
       "         (0, 6, 7, 4, 3, 5, 2, 1): 246,\n",
       "         (0, 7, 1, 4, 3, 2, 6, 5): 272,\n",
       "         (0, 7, 1, 4, 3, 6, 2, 5): 254,\n",
       "         (0, 7, 5, 4, 3, 2, 6, 1): 242,\n",
       "         (0, 7, 5, 4, 3, 6, 2, 1): 272,\n",
       "         (4, 2, 1, 0, 3, 5, 6, 7): 255,\n",
       "         (4, 2, 1, 0, 3, 6, 7, 5): 267,\n",
       "         (4, 2, 1, 0, 7, 5, 6, 3): 253,\n",
       "         (4, 2, 1, 0, 7, 6, 3, 5): 235,\n",
       "         (4, 2, 3, 0, 7, 1, 6, 5): 258,\n",
       "         (4, 2, 3, 0, 7, 5, 6, 1): 264,\n",
       "         (4, 2, 5, 0, 3, 1, 6, 7): 265,\n",
       "         (4, 2, 5, 0, 3, 6, 7, 1): 266,\n",
       "         (4, 2, 5, 0, 7, 1, 6, 3): 236,\n",
       "         (4, 2, 5, 0, 7, 6, 3, 1): 240,\n",
       "         (4, 2, 7, 0, 3, 1, 6, 5): 261,\n",
       "         (4, 2, 7, 0, 3, 5, 6, 1): 247,\n",
       "         (4, 3, 1, 0, 7, 2, 6, 5): 246,\n",
       "         (4, 3, 1, 0, 7, 6, 2, 5): 251,\n",
       "         (4, 3, 5, 0, 7, 2, 6, 1): 228,\n",
       "         (4, 3, 5, 0, 7, 6, 2, 1): 247,\n",
       "         (4, 6, 1, 0, 3, 2, 7, 5): 266,\n",
       "         (4, 6, 1, 0, 3, 5, 2, 7): 267,\n",
       "         (4, 6, 1, 0, 7, 2, 3, 5): 253,\n",
       "         (4, 6, 1, 0, 7, 5, 2, 3): 237,\n",
       "         (4, 6, 3, 0, 7, 1, 2, 5): 241,\n",
       "         (4, 6, 3, 0, 7, 5, 2, 1): 234,\n",
       "         (4, 6, 5, 0, 3, 1, 2, 7): 254,\n",
       "         (4, 6, 5, 0, 3, 2, 7, 1): 248,\n",
       "         (4, 6, 5, 0, 7, 1, 2, 3): 237,\n",
       "         (4, 6, 5, 0, 7, 2, 3, 1): 218,\n",
       "         (4, 6, 7, 0, 3, 1, 2, 5): 266,\n",
       "         (4, 6, 7, 0, 3, 5, 2, 1): 253,\n",
       "         (4, 7, 1, 0, 3, 2, 6, 5): 247,\n",
       "         (4, 7, 1, 0, 3, 6, 2, 5): 236,\n",
       "         (4, 7, 5, 0, 3, 2, 6, 1): 241,\n",
       "         (4, 7, 5, 0, 3, 6, 2, 1): 236})"
      ]
     },
     "execution_count": 4,
     "metadata": {},
     "output_type": "execute_result"
    }
   ],
   "source": [
    "results = run_simulations(costs, niterations, hungarian_shuffle_first)\n",
    "results"
   ]
  },
  {
   "cell_type": "code",
   "execution_count": 5,
   "metadata": {
    "scrolled": true
   },
   "outputs": [
    {
     "data": {
      "text/plain": [
       "{(0, 2, 1, 0, 3, 1, 2, 3): [236,\n",
       "  237,\n",
       "  255,\n",
       "  251,\n",
       "  267,\n",
       "  265,\n",
       "  260,\n",
       "  247,\n",
       "  255,\n",
       "  267,\n",
       "  251,\n",
       "  237,\n",
       "  256,\n",
       "  220,\n",
       "  253,\n",
       "  254],\n",
       " (0, 2, 1, 0, 3, 2, 3, 1): [267,\n",
       "  266,\n",
       "  230,\n",
       "  218,\n",
       "  269,\n",
       "  266,\n",
       "  259,\n",
       "  240,\n",
       "  258,\n",
       "  248,\n",
       "  242,\n",
       "  248,\n",
       "  248,\n",
       "  253,\n",
       "  258,\n",
       "  235],\n",
       " (0, 2, 3, 0, 3, 1, 2, 1): [266,\n",
       "  261,\n",
       "  238,\n",
       "  232,\n",
       "  246,\n",
       "  237,\n",
       "  230,\n",
       "  241,\n",
       "  264,\n",
       "  247,\n",
       "  261,\n",
       "  245,\n",
       "  234,\n",
       "  253,\n",
       "  266,\n",
       "  258],\n",
       " (0, 3, 1, 0, 3, 2, 2, 1): [261,\n",
       "  241,\n",
       "  246,\n",
       "  251,\n",
       "  228,\n",
       "  236,\n",
       "  242,\n",
       "  247,\n",
       "  272,\n",
       "  252,\n",
       "  271,\n",
       "  236,\n",
       "  247,\n",
       "  249,\n",
       "  272,\n",
       "  254]}"
      ]
     },
     "execution_count": 5,
     "metadata": {},
     "output_type": "execute_result"
    }
   ],
   "source": [
    "frequencies_by_position(results)"
   ]
  },
  {
   "cell_type": "code",
   "execution_count": 6,
   "metadata": {
    "scrolled": false
   },
   "outputs": [
    {
     "data": {
      "text/plain": [
       "0"
      ]
     },
     "execution_count": 6,
     "metadata": {},
     "output_type": "execute_result"
    }
   ],
   "source": [
    "verify_costs(costs, results)"
   ]
  },
  {
   "cell_type": "code",
   "execution_count": 7,
   "metadata": {
    "scrolled": false
   },
   "outputs": [],
   "source": [
    "# Only run the next three cells if the randomized version of munkres is available\n",
    "results = run_simulations(costs, niterations, hungarian_shuffle_during) if randomized_munkres else None"
   ]
  },
  {
   "cell_type": "code",
   "execution_count": 8,
   "metadata": {
    "scrolled": true
   },
   "outputs": [
    {
     "data": {
      "text/plain": [
       "{(0, 2, 1, 0, 3, 1, 2, 3): [242,\n",
       "  247,\n",
       "  245,\n",
       "  234,\n",
       "  243,\n",
       "  247,\n",
       "  259,\n",
       "  251,\n",
       "  255,\n",
       "  254,\n",
       "  273,\n",
       "  254,\n",
       "  252,\n",
       "  253,\n",
       "  229,\n",
       "  272],\n",
       " (0, 2, 1, 0, 3, 2, 3, 1): [244,\n",
       "  259,\n",
       "  247,\n",
       "  261,\n",
       "  222,\n",
       "  256,\n",
       "  241,\n",
       "  257,\n",
       "  260,\n",
       "  245,\n",
       "  248,\n",
       "  239,\n",
       "  248,\n",
       "  250,\n",
       "  245,\n",
       "  223],\n",
       " (0, 2, 3, 0, 3, 1, 2, 1): [219,\n",
       "  247,\n",
       "  223,\n",
       "  260,\n",
       "  274,\n",
       "  227,\n",
       "  262,\n",
       "  257,\n",
       "  234,\n",
       "  259,\n",
       "  234,\n",
       "  260,\n",
       "  270,\n",
       "  259,\n",
       "  240,\n",
       "  236],\n",
       " (0, 3, 1, 0, 3, 2, 2, 1): [281,\n",
       "  256,\n",
       "  208,\n",
       "  270,\n",
       "  259,\n",
       "  258,\n",
       "  245,\n",
       "  251,\n",
       "  277,\n",
       "  247,\n",
       "  263,\n",
       "  251,\n",
       "  272,\n",
       "  226,\n",
       "  264,\n",
       "  256]}"
      ]
     },
     "execution_count": 8,
     "metadata": {},
     "output_type": "execute_result"
    }
   ],
   "source": [
    "frequencies_by_position(results) if randomized_munkres else None"
   ]
  },
  {
   "cell_type": "code",
   "execution_count": 9,
   "metadata": {
    "scrolled": false
   },
   "outputs": [
    {
     "data": {
      "text/plain": [
       "0"
      ]
     },
     "execution_count": 9,
     "metadata": {},
     "output_type": "execute_result"
    }
   ],
   "source": [
    "verify_costs(costs, results) if randomized_munkres else None"
   ]
  },
  {
   "cell_type": "markdown",
   "metadata": {},
   "source": [
    "## Random (Bernoulli i.i.d.) costs"
   ]
  },
  {
   "cell_type": "code",
   "execution_count": 10,
   "metadata": {
    "collapsed": true,
    "scrolled": true
   },
   "outputs": [],
   "source": [
    "def generate_random_costs(n, p):\n",
    "    \"\"\"Generates an `n`-by-`n` cost matrix in which each elements is\n",
    "    i.i.d. Bernoulli(p). This is probably not a realistic cost matrix\n",
    "    for a BP bracket.\"\"\"\n",
    "    return [[int(random.random() < p) for i in range(n)] for j in range(n)]"
   ]
  },
  {
   "cell_type": "code",
   "execution_count": 11,
   "metadata": {
    "scrolled": true
   },
   "outputs": [
    {
     "data": {
      "text/plain": [
       "[[1, 1, 0, 1, 1, 1, 0, 1],\n",
       " [1, 1, 0, 1, 0, 1, 1, 0],\n",
       " [0, 1, 0, 1, 0, 1, 1, 1],\n",
       " [1, 1, 1, 1, 1, 0, 1, 0],\n",
       " [0, 1, 1, 0, 1, 1, 1, 0],\n",
       " [1, 0, 0, 1, 1, 0, 1, 0],\n",
       " [0, 1, 1, 1, 1, 1, 1, 0],\n",
       " [1, 0, 1, 0, 1, 1, 0, 0]]"
      ]
     },
     "execution_count": 11,
     "metadata": {},
     "output_type": "execute_result"
    }
   ],
   "source": [
    "costs = generate_random_costs(8, 2/3)\n",
    "costs"
   ]
  },
  {
   "cell_type": "code",
   "execution_count": 12,
   "metadata": {
    "scrolled": false
   },
   "outputs": [
    {
     "data": {
      "text/plain": [
       "Counter({(2, 4, 0, 5, 3, 1, 7, 6): 1675,\n",
       "         (2, 7, 4, 5, 3, 1, 0, 6): 1622,\n",
       "         (6, 2, 4, 5, 0, 1, 7, 3): 1331,\n",
       "         (6, 2, 4, 5, 3, 1, 0, 7): 726,\n",
       "         (6, 2, 4, 5, 3, 7, 0, 1): 682,\n",
       "         (6, 2, 4, 5, 7, 1, 0, 3): 967,\n",
       "         (6, 2, 4, 7, 3, 5, 0, 1): 1388,\n",
       "         (6, 4, 0, 5, 3, 2, 7, 1): 1415,\n",
       "         (6, 4, 2, 5, 0, 1, 7, 3): 1237,\n",
       "         (6, 4, 2, 5, 3, 1, 0, 7): 777,\n",
       "         (6, 4, 2, 5, 3, 7, 0, 1): 756,\n",
       "         (6, 4, 2, 5, 7, 1, 0, 3): 1035,\n",
       "         (6, 4, 2, 7, 3, 5, 0, 1): 1454,\n",
       "         (6, 7, 4, 5, 3, 2, 0, 1): 935})"
      ]
     },
     "execution_count": 12,
     "metadata": {},
     "output_type": "execute_result"
    }
   ],
   "source": [
    "results = run_simulations(costs, niterations, hungarian_shuffle_first)\n",
    "results"
   ]
  },
  {
   "cell_type": "code",
   "execution_count": 13,
   "metadata": {
    "scrolled": false
   },
   "outputs": [
    {
     "data": {
      "text/plain": [
       "0"
      ]
     },
     "execution_count": 13,
     "metadata": {},
     "output_type": "execute_result"
    }
   ],
   "source": [
    "verify_costs(costs, results)"
   ]
  },
  {
   "cell_type": "code",
   "execution_count": 14,
   "metadata": {
    "scrolled": false
   },
   "outputs": [
    {
     "data": {
      "text/plain": [
       "Counter({(2, 4, 0, 5, 3, 1, 7, 6): 1792,\n",
       "         (2, 7, 4, 5, 3, 1, 0, 6): 1578,\n",
       "         (6, 2, 4, 5, 0, 1, 7, 3): 1320,\n",
       "         (6, 2, 4, 5, 3, 1, 0, 7): 726,\n",
       "         (6, 2, 4, 5, 3, 7, 0, 1): 731,\n",
       "         (6, 2, 4, 5, 7, 1, 0, 3): 894,\n",
       "         (6, 2, 4, 7, 3, 5, 0, 1): 1293,\n",
       "         (6, 4, 0, 5, 3, 2, 7, 1): 1417,\n",
       "         (6, 4, 2, 5, 0, 1, 7, 3): 1193,\n",
       "         (6, 4, 2, 5, 3, 1, 0, 7): 802,\n",
       "         (6, 4, 2, 5, 3, 7, 0, 1): 795,\n",
       "         (6, 4, 2, 5, 7, 1, 0, 3): 959,\n",
       "         (6, 4, 2, 7, 3, 5, 0, 1): 1421,\n",
       "         (6, 7, 4, 5, 3, 2, 0, 1): 1079})"
      ]
     },
     "execution_count": 14,
     "metadata": {},
     "output_type": "execute_result"
    }
   ],
   "source": [
    "# Only run the next two cells if the randomized version of munkres is available\n",
    "results = run_simulations(costs, niterations, hungarian_shuffle_during) if randomized_munkres else None\n",
    "results"
   ]
  },
  {
   "cell_type": "code",
   "execution_count": 15,
   "metadata": {
    "scrolled": false
   },
   "outputs": [
    {
     "data": {
      "text/plain": [
       "0"
      ]
     },
     "execution_count": 15,
     "metadata": {},
     "output_type": "execute_result"
    }
   ],
   "source": [
    "verify_costs(costs, results) if randomized_munkres else None"
   ]
  }
 ],
 "metadata": {
  "kernelspec": {
   "display_name": "Python 3",
   "language": "python",
   "name": "python3"
  },
  "language_info": {
   "codemirror_mode": {
    "name": "ipython",
    "version": 3
   },
   "file_extension": ".py",
   "mimetype": "text/x-python",
   "name": "python",
   "nbconvert_exporter": "python",
   "pygments_lexer": "ipython3",
   "version": "3.5.2"
  }
 },
 "nbformat": 4,
 "nbformat_minor": 1
}
